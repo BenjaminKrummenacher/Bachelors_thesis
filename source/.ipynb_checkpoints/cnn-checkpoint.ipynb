{
 "cells": [
  {
   "cell_type": "code",
   "execution_count": 3,
   "metadata": {},
   "outputs": [
    {
     "name": "stderr",
     "output_type": "stream",
     "text": [
      "2021-12-22 17:19:09.636898: W tensorflow/stream_executor/platform/default/dso_loader.cc:64] Could not load dynamic library 'libcudart.so.11.0'; dlerror: libcudart.so.11.0: cannot open shared object file: No such file or directory\n",
      "2021-12-22 17:19:09.636978: I tensorflow/stream_executor/cuda/cudart_stub.cc:29] Ignore above cudart dlerror if you do not have a GPU set up on your machine.\n"
     ]
    }
   ],
   "source": [
    "from tensorflow.keras.applications.resnet50 import ResNet50\n",
    "from tensorflow.keras.applications.vgg16 import VGG16\n",
    "from tensorflow.keras.applications.mobilenet_v2 import MobileNetV2\n",
    "from tensorflow.keras.preprocessing import image\n",
    "from tensorflow.keras.applications.resnet50 import preprocess_input, decode_predictions\n",
    "from tensorflow.keras import datasets, layers, models\n",
    "import numpy as np\n",
    "\n",
    "import tensorflow as tf\n",
    "\n",
    "from tensorflow import keras\n",
    "from tensorflow.keras import layers\n",
    "from tensorflow.keras.models import Sequential\n",
    "from tensorflow import image\n",
    "\n",
    "from sklearn.model_selection import train_test_split\n",
    "from sklearn.metrics import confusion_matrix\n",
    "import pandas as pd\n",
    "import matplotlib.pyplot as plt\n",
    "from sklearn import preprocessing\n",
    "from sklearn.metrics import ConfusionMatrixDisplay\n",
    "from sklearn.metrics import f1_score\n",
    "\n",
    "#import tensorflow.keras.applications.ResNet50\n",
    "#from keras_applications.resnet import ResNet50\n"
   ]
  },
  {
   "cell_type": "code",
   "execution_count": 4,
   "metadata": {},
   "outputs": [],
   "source": [
    "# model = ResNet50(weights='imagenet')\n"
   ]
  },
  {
   "cell_type": "code",
   "execution_count": 4,
   "metadata": {},
   "outputs": [
    {
     "name": "stdout",
     "output_type": "stream",
     "text": [
      "3436\n",
      "Before: (3436, 128, 128)\n",
      "After: (3436, 128, 128, 3)\n"
     ]
    },
    {
     "name": "stderr",
     "output_type": "stream",
     "text": [
      "2021-12-22 17:19:16.275302: W tensorflow/stream_executor/platform/default/dso_loader.cc:64] Could not load dynamic library 'libcuda.so.1'; dlerror: libcuda.so.1: cannot open shared object file: No such file or directory\n",
      "2021-12-22 17:19:16.275342: W tensorflow/stream_executor/cuda/cuda_driver.cc:269] failed call to cuInit: UNKNOWN ERROR (303)\n",
      "2021-12-22 17:19:16.275375: I tensorflow/stream_executor/cuda/cuda_diagnostics.cc:156] kernel driver does not appear to be running on this host (t480s): /proc/driver/nvidia/version does not exist\n",
      "2021-12-22 17:19:16.276084: I tensorflow/core/platform/cpu_feature_guard.cc:142] This TensorFlow binary is optimized with oneAPI Deep Neural Network Library (oneDNN) to use the following CPU instructions in performance-critical operations:  AVX2 FMA\n",
      "To enable them in other operations, rebuild TensorFlow with the appropriate compiler flags.\n"
     ]
    }
   ],
   "source": [
    "data = pd.read_pickle(\"../data/pickle/Huiying_part1_columns.pkl\")\n",
    "#X_abs = data[\"img_abs\"]#.to_numpy()\n",
    "X_abs = np.stack(data[\"img_abs\"])\n",
    "X_ang = np.stack(data[\"img_ang\"])\n",
    "Y = data[\"label_proc_aggregate\"].to_numpy()\n",
    "\n",
    "#print(len(X_abs))\n",
    "size = 128\n",
    "#X_abs = X_abs.reshape(len(X_abs), size, size, 1)\n",
    "#print(X_abs.shape)\n",
    "\n",
    "#testImg = X_abs[0]\n",
    "#print(testImg.shape)\n",
    "#plt.imshow(testImg, interpolation='nearest')\n",
    "#plt.show()\n",
    "#print(np.max(X_abs[0]))\n",
    "print(len(X_abs))\n",
    "\n",
    "#scaler_abs = preprocessing.StandardScaler().fit(X_abs)\n",
    "#X_abs = scaler_abs.transform(X_abs)\n",
    "#print(np.max(X_abs[0]))\n",
    "#3.505\n",
    "print(\"Before:\", X_abs.shape)\n",
    "X_abs = np.stack((X_abs, X_abs, X_abs), axis=-1)\n",
    "print(\"After:\", X_abs.shape)\n",
    "\n",
    "for i in range(len(X_abs)):\n",
    "    X_abs[i] = image.per_image_standardization(X_abs[i])\n",
    "\n",
    "X_train_abs, X_test_abs, X_train_ang, X_test_ang, Y_train, Y_test = train_test_split(X_abs, X_ang, Y, test_size=0.25, random_state=42)\n",
    "        \n",
    "# 1:1,8True\n",
    "# 0:0,2"
   ]
  },
  {
   "cell_type": "code",
   "execution_count": 16,
   "metadata": {},
   "outputs": [
    {
     "name": "stdout",
     "output_type": "stream",
     "text": [
      "Epoch 1/4\n",
      "81/81 [==============================] - 15s 164ms/step - loss: 0.5809 - accuracy: 0.7167 - val_loss: 0.5109 - val_accuracy: 0.7311\n",
      "Epoch 2/4\n",
      "81/81 [==============================] - 12s 144ms/step - loss: 0.5105 - accuracy: 0.7241 - val_loss: 0.4972 - val_accuracy: 0.7590\n",
      "Epoch 3/4\n",
      "81/81 [==============================] - 14s 172ms/step - loss: 0.4982 - accuracy: 0.7555 - val_loss: 0.4871 - val_accuracy: 0.7625\n",
      "Epoch 4/4\n",
      "81/81 [==============================] - 14s 169ms/step - loss: 0.4740 - accuracy: 0.7633 - val_loss: 0.4991 - val_accuracy: 0.7404\n"
     ]
    }
   ],
   "source": [
    "modelMobileNetV2 = MobileNetV2(\n",
    "    input_shape=(128, 128, 3), alpha=1.0, include_top=True, weights='imagenet',\n",
    "    input_tensor=None, pooling=None, classes=1000,\n",
    "    classifier_activation='softmax')\n",
    "\n",
    "modelMobileNetV2.trainable = False\n",
    "\n",
    "myModel = keras.Sequential([\n",
    "    modelMobileNetV2,\n",
    "    layers.Dense(512, activation=\"relu\"),\n",
    "    layers.Dropout(0.5),\n",
    "    layers.Dense(256, activation=\"relu\"),\n",
    "    layers.Dropout(0.5),\n",
    "    layers.Dense(128, activation=\"relu\"),\n",
    "    layers.Dropout(0.5),\n",
    "    layers.Dense(64, activation=\"relu\"),\n",
    "    layers.Dense(1, activation=\"sigmoid\")\n",
    "])\n",
    "\n",
    "myModel.compile(optimizer='adam',\n",
    "              #loss=tf.keras.losses.SparseCategoricalCrossentropy(from_logits=False),\n",
    "              loss=tf.keras.losses.BinaryCrossentropy(from_logits=False),\n",
    "              metrics=['accuracy'])\n",
    "\n",
    "history = myModel.fit(x=X_train_abs, y=Y_train, validation_data=(X_test_abs,Y_test), epochs=4)\n"
   ]
  },
  {
   "cell_type": "code",
   "execution_count": 13,
   "metadata": {},
   "outputs": [],
   "source": [
    "Y_pred = myModel.predict(X_test_abs)"
   ]
  },
  {
   "cell_type": "code",
   "execution_count": 14,
   "metadata": {},
   "outputs": [
    {
     "name": "stdout",
     "output_type": "stream",
     "text": [
      "[[578  50]\n",
      " [154  77]]\n",
      "0.6400837988826816\n"
     ]
    }
   ],
   "source": [
    "a = np.argmax(Y_pred, axis=1)\n",
    "b = Y_test\n",
    "print(confusion_matrix(b,a))\n",
    "print(f1_score(b,a,average='macro'))"
   ]
  },
  {
   "cell_type": "code",
   "execution_count": 59,
   "metadata": {},
   "outputs": [
    {
     "name": "stdout",
     "output_type": "stream",
     "text": [
      "0.7226426076833528\n",
      "0.7198292588280947\n",
      "0.7310826542491269\n"
     ]
    }
   ],
   "source": [
    "print((len(Y) -np.sum(Y)) / len(Y))\n",
    "print((len(Y_train) - np.sum(Y_train)) / len(Y_train))\n",
    "print((len(Y_test)-np.sum(Y_test)) / len(Y_test))\n",
    "history = 0x7fd1f7546820"
   ]
  },
  {
   "cell_type": "code",
   "execution_count": 6,
   "metadata": {},
   "outputs": [],
   "source": [
    "num_classes = 2\n",
    "\n",
    "model1 = models.Sequential()\n",
    "model1.add(layers.Conv2D(32, (8, 8), activation='relu', input_shape=(size, size, 1)))\n",
    "model1.add(layers.MaxPooling2D((2, 2)))\n",
    "model1.add(layers.Conv2D(64, (3, 3), activation='relu'))\n",
    "model1.add(layers.Dropout(0.5))\n",
    "model1.add(layers.MaxPooling2D((2, 2)))\n",
    "model1.add(layers.Conv2D(64, (3, 3), activation='relu'))\n",
    "model1.add(layers.Flatten())\n",
    "model1.add(layers.Dense(64, activation='relu'))\n",
    "model1.add(layers.Dropout(0.5))\n",
    "model1.add(layers.Dense(32, activation='relu'))\n",
    "model1.add(layers.Dropout(0.25))\n",
    "model1.add(layers.Dense(10, activation='relu'))\n",
    "model1.add(layers.Dense(2))\n",
    "\n",
    "#from_logits=True made it work, TODO: find out exactly what from_logits means\n",
    "model1.compile(optimizer='adam',\n",
    "              loss=tf.keras.losses.SparseCategoricalCrossentropy(from_logits=True),\n",
    "              metrics=['accuracy'])\n",
    "#model1.summary()"
   ]
  },
  {
   "cell_type": "code",
   "execution_count": 7,
   "metadata": {},
   "outputs": [
    {
     "name": "stderr",
     "output_type": "stream",
     "text": [
      "2021-12-22 15:21:36.502433: I tensorflow/compiler/mlir/mlir_graph_optimization_pass.cc:185] None of the MLIR Optimization Passes are enabled (registered 2)\n"
     ]
    },
    {
     "name": "stdout",
     "output_type": "stream",
     "text": [
      "81/81 [==============================] - 26s 318ms/step - loss: 0.6172 - accuracy: 0.6938 - val_loss: 0.5721 - val_accuracy: 0.7311\n"
     ]
    }
   ],
   "source": [
    "history = model1.fit(x=X_train_abs, y=Y_train, validation_data=(X_test_abs,Y_test), epochs=1)"
   ]
  },
  {
   "cell_type": "code",
   "execution_count": 10,
   "metadata": {},
   "outputs": [
    {
     "name": "stdout",
     "output_type": "stream",
     "text": [
      "(2577, 128, 128, 1)\n",
      "(2577, 128, 128, 3, 1)\n"
     ]
    }
   ],
   "source": [
    "a = np.stack((X_train_abs, X_train_abs, X_train_abs), -1)\n",
    "print(X_train_abs.shape)\n",
    "print(a.shape)"
   ]
  },
  {
   "cell_type": "code",
   "execution_count": 36,
   "metadata": {},
   "outputs": [
    {
     "data": {
      "image/png": "[encoded data removed]",
      "text/plain": [
       "<Figure size 432x288 with 1 Axes>"
      ]
     },
     "metadata": {
      "needs_background": "light"
     },
     "output_type": "display_data"
    }
   ],
   "source": [
    "plt.plot(history.history['accuracy'])\n",
    "plt.plot(history.history['val_accuracy'])\n",
    "plt.plot(history.history['loss'])\n",
    "plt.plot(history.history['val_loss'])\n",
    "plt.title('model accuracy and loss')\n",
    "plt.ylabel('accuracy')\n",
    "plt.xlabel('epoch')\n",
    "plt.legend(['train accuracy', 'test_accuracy', 'train loss', 'test loss'], loc='upper left')\n",
    "plt.show()"
   ]
  },
  {
   "cell_type": "code",
   "execution_count": null,
   "metadata": {},
   "outputs": [],
   "source": []
  }
 ],
 "metadata": {
  "kernelspec": {
   "display_name": "Python 3",
   "language": "python",
   "name": "python3"
  },
  "language_info": {
   "codemirror_mode": {
    "name": "ipython",
    "version": 3
   },
   "file_extension": ".py",
   "mimetype": "text/x-python",
   "name": "python",
   "nbconvert_exporter": "python",
   "pygments_lexer": "ipython3",
   "version": "3.8.10"
  }
 },
 "nbformat": 4,
 "nbformat_minor": 4
}
